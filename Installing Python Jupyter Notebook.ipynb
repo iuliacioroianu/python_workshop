{
 "cells": [
  {
   "cell_type": "markdown",
   "metadata": {},
   "source": [
    "## What is Jupyter? \n",
    "\n",
    "[Jupyter](http://jupyter.org) allows you to create and share documents that contain code, results, graphs, explanatory text and equations. The project started out at as IPython Notebook (you will find a lot of useful online resources under this name), but has grown to support not only Python, but over 40 other programming languages. The name \"Jupyter\" is a combination of [Julia](http://julialang.org/), [Python](http://python.org/), and [R](https://www.r-project.org), and a full list of [available kernels](https://github.com/ipython/ipython/wiki/IPython-kernels-for-other-languages) can be found on the Jupyter documentation page. \n",
    "\n",
    "Working with Jupyter notebooks is extremely easy: you create a new notebook and edit it in your browser. A Python (or R, Julia, etc.) kernel evaluates the code you type in notebook \"cells\" and displays the result below the cell. The resulting file can be exported as HTML, Markdown, LaTeX and PDF. The notebook itself is stored in [JSON](http://json.org) format. Notebooks also [render nicely](https://github.com/blog/1995-github-jupyter-notebooks-3) on GitHub.  \n"
   ]
  },
  {
   "cell_type": "markdown",
   "metadata": {},
   "source": [
    "## Installing Jupyter\n",
    "\n",
    "#### A. If you don't have Python installed:\n",
    "For new Python users, it is highly recommended that you use Anaconda, which installs Python, the Jupyter Notebook, and other commonly used packages for scientific computing and data science.\n",
    "\n",
    "1. [Download Anaconda](https://www.anaconda.com/distribution/#download-section). \n",
    "    * Choose your operating system. \n",
    "    * You can choose whether to install Python 3.7 or 2.7. Choose Python 3, but be aware that it is not backwords compatible, which means that code written in Python 2 may not work correctly in Python 3. However, most useful pachages have now been updated for Python 3. Also note that you can always go back to conda and install another environment for Python 2 if you need it. \n",
    "    \n",
    "2. Install the version of Anaconda which you downloaded, following the instructions on the download page: \n",
    "\n",
    "Important instructions:\n",
    "1. On windows: \n",
    "    * Do NOT install into paths that include spaces. (On Windows, if possible, install directly in C:\\.)\n",
    "    * When asked, DO choose to add to path if you have admininstrator rights on your computer. \n",
    "If you don't have admin rights, choose not to add to path at this stage. You will have to do this step separately later. Come and see me during the break if you need help with this. \n",
    "    \n",
    "    \n",
    "2. On Mac:\n",
    "    * When asked, DO choose to add to path. \n",
    "\n",
    "    **While the installer runs, listen to me speaking about some very important things.** \n",
    "\n",
    "3. You now have Python and Jupyter notebook installed. You can start the notebook server from Anaconda Navigator, or from the command line (using Terminal on Mac/Linux, Command Prompt on Windows) by running:\n",
    "        jupyter notebook\n",
    "4. To update packages and install Python packages which were not included in Anaconda, you can use *conda*. \n",
    "    To update `conda`: \n",
    "        conda update conda\n",
    "    To see what packages are installed: \n",
    "        conda list\n",
    "    To update packages:\n",
    "        conda update --all\n",
    "    To install a package: \n",
    "        conda install rpy2\n",
    "\n",
    "#### B. If you have used Python before:\n",
    "1. You can install Jupyter using *pip*:\n",
    "        pip3 install --upgrade pip\n",
    "        pip3 install jupyter\n",
    "2. You now Jupyter Notebook installed. You can start the notebook server from the command line (using Terminal on Mac/Linux, Command Prompt on Windows) by running:\n",
    "        jupyter notebook\n",
    "4. You can also update Jypyter using `pip` (and install other packages): \n",
    "    To update Jupyter: \n",
    "        pip install --update jupyter"
   ]
  },
  {
   "cell_type": "markdown",
   "metadata": {},
   "source": [
    "## Running the notebook\n",
    "\n",
    "You can start the notebook from the command line or Anaconda prompt: \n",
    "        \n",
    "        jupyter notebook\n",
    "        \n",
    "The notebook will open in your browser. You can also specify which browser to use: \n",
    "        \n",
    "        jupyter notebook --browser=chrome\n",
    "\n",
    "By default, the notebook server starts on port 8888, or, if this port is not available, to the next available one, such as 9999. You may also specify a port manually:\n",
    "\n",
    "        jupyter notebook --port 9999\n",
    "When you are done, you can kill Jupyter by hitting \"Ctrl + C\" in the terminal window. \n",
    "\n",
    "\n"
   ]
  },
  {
   "cell_type": "markdown",
   "metadata": {},
   "source": [
    "## Notebook structure\n",
    "\n",
    "If you've added Anaconda to your PATH environment variable you can launch Jupyter from any location in your computer. By default, it will launch in your current working directory. \n",
    "\n",
    "You can navigate through the files in your computer to find the one you want to edit, and click the \"Upload\" button in the upper right corner. You can also click the \"New\" button to create a new file. You will be asked to select the type of file you want to open from the dropdown menu. For example, to open a new notebook using a Python 2 kernet choose \"Python 2\" in the notebooks section. This will open a new notebook in a new window (or tab) in your browser.\n",
    "\n",
    "\n",
    "A Jupyter notebook consists of cells. You can specify which type of cell you want to use in the drop-down menu on top of the page, or using keyboard shortcuts. The two main types of cells that we're using are code cells and markdown cells. You can turn a cell into a text cell by hitting \"Esc, y\" and into a markdown cell by hitting \"Esc, m\". \n",
    "\n",
    "You have to press Enter or double-click on a cell to enter editing mode. You can add new cells by hitting he **+** button top of the notebook, and you can move cells up and down to change their order using the arrows. You can also use shortcuts: \"Esc, b\" to insert a cell below  and \"Esc, a\" to insert a cell above. [Here](https://www.cheatography.com/weidadeyue/cheat-sheets/jupyter-notebook/) is a list of useful Jupyter shortcuts. \n"
   ]
  },
  {
   "cell_type": "markdown",
   "metadata": {},
   "source": [
    "## Code cells\n",
    "Code cells contain the code you want to run. To execute the code in a cell, hit \"Shift+Enter\". This executes the current cell and moves on to the next one. You can also use the menu button for this, by pressing the \"play\" button on the toolbar or select \"Run\" from the \"Cell\" menu above. Another way to run the current cell if by hitting \"Ctrl+Enter\", which runs thew current cell but does not select the next one. \n",
    "\n",
    "Here is an example of some simple code in a cell: "
   ]
  },
  {
   "cell_type": "code",
   "execution_count": 1,
   "metadata": {},
   "outputs": [
    {
     "name": "stdout",
     "output_type": "stream",
     "text": [
      "i= 0 a= 0\n",
      "i= 1 a= 1\n",
      "i= 2 a= 3\n",
      "i= 3 a= 6\n",
      "i= 4 a= 10\n"
     ]
    }
   ],
   "source": [
    "a=0\n",
    "for i in range(5):\n",
    "    a+=i\n",
    "    print(\"i=\", i, \"a=\", a)"
   ]
  },
  {
   "cell_type": "markdown",
   "metadata": {},
   "source": [
    "You can edit the code and run it again until you get the desired result. \n",
    "\n",
    "Results generated by running the code in a cell are available in all other cells, including the ones above, if you execute them again. You can tell the order in which cells were executed by looking at the counter in front of them, \"In[]\"."
   ]
  },
  {
   "cell_type": "code",
   "execution_count": 2,
   "metadata": {},
   "outputs": [
    {
     "name": "stdout",
     "output_type": "stream",
     "text": [
      "10\n"
     ]
    }
   ],
   "source": [
    "print(a)"
   ]
  },
  {
   "cell_type": "markdown",
   "metadata": {},
   "source": [
    "Graphs can be displayed **inline**, directly in the notebook. You can specify this option by using the `%matplotlib inline` or `%pylab inline` magic functions. "
   ]
  },
  {
   "cell_type": "code",
   "execution_count": 3,
   "metadata": {},
   "outputs": [
    {
     "name": "stdout",
     "output_type": "stream",
     "text": [
      "Populating the interactive namespace from numpy and matplotlib\n"
     ]
    }
   ],
   "source": [
    "%pylab inline"
   ]
  },
  {
   "cell_type": "markdown",
   "metadata": {},
   "source": [
    "This will make all subsequently ran cells display graphs inline. "
   ]
  },
  {
   "cell_type": "code",
   "execution_count": 4,
   "metadata": {},
   "outputs": [
    {
     "data": {
      "image/png": "[encoded data removed]",
      "text/plain": [
       "<Figure size 432x288 with 1 Axes>"
      ]
     },
     "metadata": {},
     "output_type": "display_data"
    }
   ],
   "source": [
    "import pylab as plb\n",
    "import numpy as np\n",
    "from scipy.stats import norm\n",
    "x = np.linspace(-5,5,1000)\n",
    "y = norm.pdf(x)    # for example\n",
    "plb.plot(x,y)\n",
    "plb.title('Normal distribution')\n",
    "plb.show()"
   ]
  },
  {
   "cell_type": "markdown",
   "metadata": {},
   "source": [
    "## Markdown cells\n",
    "Markdown cells contain text written in **markdown** language. [Here](https://github.com/adam-p/markdown-here/wiki/Markdown-Cheatsheet) is a good quick reference guide for markdown. You can also insert HTML into markdown cells, as well as \\LaTeX , which will allow you to include mathematical expressions both inline:  $\\sum_{i=1}^ni^3=\\left(\\sum_{i=1}^n i\\right)^2$   and displayed:\n",
    "\n",
    "$$e^x = \\sum^{\\infty}_{n=0} \\frac{x^n}{n!} = 1 + x + \\frac{x^2}{2!} + \\frac{x^3}{3!} + \\cdots $$\n",
    "\n",
    "\n"
   ]
  },
  {
   "cell_type": "markdown",
   "metadata": {},
   "source": [
    "## Saving your document\n",
    "You can save your notebook as an .ipynb file. You can also export it as a LaTeX or PDF document. Multiple formats for exporting can be found in the \"File\" tab. "
   ]
  }
 ],
 "metadata": {
  "anaconda-cloud": {},
  "kernelspec": {
   "display_name": "Python 3",
   "language": "python",
   "name": "python3"
  },
  "language_info": {
   "codemirror_mode": {
    "name": "ipython",
    "version": 3
   },
   "file_extension": ".py",
   "mimetype": "text/x-python",
   "name": "python",
   "nbconvert_exporter": "python",
   "pygments_lexer": "ipython3",
   "version": "3.6.5"
  }
 },
 "nbformat": 4,
 "nbformat_minor": 1
}
