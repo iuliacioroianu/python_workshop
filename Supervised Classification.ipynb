{
 "cells": [
  {
   "cell_type": "code",
   "execution_count": null,
   "metadata": {},
   "outputs": [],
   "source": [
    "\n",
    "#========================================================================\n",
    "# Classification\n",
    "\n",
    "from sklearn.naive_bayes import MultinomialNB\n",
    "\n",
    "# Prepare data for sklearn. First, we need to get the \"class\" variable\n",
    "positive = [row[1] for row in movies]\n",
    "\n",
    "# Second, we need to vectorize\n",
    "vectorizer = CountVectorizer()\n",
    "\n",
    "# Transform the text data using the chosen vectorizer\n",
    "X = vectorizer.fit_transform(texts)\n",
    "y = np.array(positive) # sklearn wants numpy arrays!\n",
    "\n",
    "# Classify. Initialize the classifer\n",
    "clf = MultinomialNB()\n",
    "\n",
    "# Fit the model\n",
    "clf_fit = clf.fit(X, y)\n",
    "\n",
    "# We can print in-sample fit\n",
    "print(\"In-sample accuracy = %s\" % clf_fit.score(X, y))\n",
    "\n",
    "#--------------------------------\n",
    "# Out-of-sample accuracy\n",
    "\n",
    "from sklearn.model_selection import train_test_split\n",
    "from sklearn.metrics import accuracy_score\n",
    "\n",
    "# Split data into training and testing sets\n",
    "X_train, X_test, y_train, y_test = train_test_split(X, y, test_size=0.30, random_state=1234)\n",
    "\n",
    "print(\"Training set size = %s\" % y_train.shape)\n",
    "print(\"Testing set size = %s\" % y_test.shape)\n",
    "\n",
    "# Initialize the classifer\n",
    "clf = MultinomialNB()\n",
    "\n",
    "# Fit the model\n",
    "clf_fit = clf.fit(X_train, y_train)\n",
    "\n",
    "# Generate predictions\n",
    "y_predict = clf_fit.predict(X_test)\n",
    "\n",
    "# We can print out-of-sample fit\n",
    "print(\"Out-of-sample accuracy = %s\" %  accuracy_score(y_test, y_predict))\n"
   ]
  }
 ],
 "metadata": {
  "kernelspec": {
   "display_name": "Python 3",
   "language": "python",
   "name": "python3"
  },
  "language_info": {
   "codemirror_mode": {
    "name": "ipython",
    "version": 3
   },
   "file_extension": ".py",
   "mimetype": "text/x-python",
   "name": "python",
   "nbconvert_exporter": "python",
   "pygments_lexer": "ipython3",
   "version": "3.6.5"
  }
 },
 "nbformat": 4,
 "nbformat_minor": 2
}
