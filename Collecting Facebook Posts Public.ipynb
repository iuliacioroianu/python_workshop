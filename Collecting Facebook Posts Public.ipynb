{
 "cells": [
  {
   "cell_type": "markdown",
   "metadata": {},
   "source": [
    "This notebook uses Python 2.7, since some of the packages used have not been updated for Python 3. \n",
    "To install Python 2.7, follow the instructions in the previous tutorial, but instead of Python 3 install Python 2. \n",
    "You can then easily change between the environments in Jupyter notebook, by selecting the type of kernel to use. "
   ]
  },
  {
   "cell_type": "markdown",
   "metadata": {},
   "source": [
    "# Access to the Facebook API \n",
    "\n",
    "\n",
    "Go to http://developers.facebook.com, and click Register Now button at the top of the page.\n",
    "1. Accept the terms\n",
    "2. Verify your account\n",
    "3. Provide some information about yourself\n",
    "\n",
    "You’re now a Facebook developer.\n",
    "\n",
    "After you register as a Facebook developer, you can register a new application.\n",
    "Register a new application\n",
    "\n",
    "From http://developer.facebook.com, click on \"My Apps\" and go to the application dashboard. \n",
    "\n",
    "Click the fb create new app button button near the top. You can name it whatever uou want, but the name can't contain facebook in it. \n",
    "\n",
    "The app namespace and domain are optional. It’s safest to leave them blank.\n",
    "\n",
    "Your application is now created. \n",
    "\n",
    "From the application settings page you need the App ID and App Secret near the top. These values are your application’s credentials to Facebook, and we will use them in our code. "
   ]
  },
  {
   "cell_type": "code",
   "execution_count": 2,
   "metadata": {
    "collapsed": true
   },
   "outputs": [],
   "source": [
    "#Import the libraries we need: \n",
    "from __future__ import unicode_literals\n",
    "import urllib2\n",
    "import json\n",
    "import datetime\n",
    "import csv\n",
    "import time"
   ]
  },
  {
   "cell_type": "code",
   "execution_count": 3,
   "metadata": {
    "collapsed": true
   },
   "outputs": [],
   "source": [
    "app_id = \"1397726337023574\"\n",
    "app_secret = \"c8f547f1bb18ba525497fe85993a98c1\" \n",
    "access_token = app_id + \"|\" + app_secret\n",
    "page_id='PlaidCymruWales'"
   ]
  },
  {
   "cell_type": "code",
   "execution_count": 4,
   "metadata": {
    "collapsed": true
   },
   "outputs": [],
   "source": [
    "def request_until_succeed(url):\n",
    "    req = urllib2.Request(url)\n",
    "    success = False\n",
    "    while success is False:\n",
    "        try: \n",
    "            response = urllib2.urlopen(req)\n",
    "            if response.getcode() == 200:\n",
    "                success = True\n",
    "                print \"200 retrieved\"\n",
    "        except Exception, e:\n",
    "            print e\n",
    "            time.sleep(600)         \n",
    "            print \"Error for URL %s: %s\" % (url, datetime.datetime.now())\n",
    "    return response.read()"
   ]
  },
  {
   "cell_type": "code",
   "execution_count": 5,
   "metadata": {},
   "outputs": [
    {
     "name": "stdout",
     "output_type": "stream",
     "text": [
      "200 retrieved\n",
      "{u'name': u'Call to scrap premium NHS phone number', u'comments': {u'data': [], u'summary': {u'total_count': 0, u'can_comment': False, u'order': u'chronological'}}, u'shares': {u'count': 4}, u'link': u'http://www.bbc.co.uk/news/uk-wales-42263997', u'likes': {u'paging': {u'cursors': {u'after': u'NTQ3MTk2MzQ1NjI5MTgy', u'before': u'NTQ3MTk2MzQ1NjI5MTgy'}, u'next': u'https://graph.facebook.com/v2.11/26416930992_10155754268115993/likes?access_token=1397726337023574%7Cc8f547f1bb18ba525497fe85993a98c1&summary=true&limit=1&after=NTQ3MTk2MzQ1NjI5MTgy'}, u'data': [], u'summary': {u'total_count': 7, u'has_liked': False, u'can_like': False}}, u'created_time': u'2017-12-07T16:47:20+0000', u'message': u'\"Take away this premium telephone number immediately,\" said Rhun ap Iorwerth. \"Look for an 03 local charge number and then move as quickly as possible to introducing a Wales-wide free 111 number so people can ring to get the advice they need.\"\\n\\n\"They should know this is costing people, perhaps without money in their pockets, far too much to call this service at a time when people are actively being encouraged to seek alternative ways of contacting primary care in order to take the pressure off GPs and accident and emergency units - ie go to see a pharmacist or call a phone number like this.\"', u'type': u'link', u'id': u'26416930992_10155754268115993'}\n"
     ]
    }
   ],
   "source": [
    "def getFacebookPageFeedData(page_id, access_token, num_statuses):    \n",
    "    # construct the URL string\n",
    "    base = \"https://graph.facebook.com\"\n",
    "    node = \"/\" + page_id + \"/feed\" \n",
    "    parameters = \"/?fields=message,story,link,created_time,type,name,id,comments.limit(1).summary(true),likes.limit(1).summary(true),shares&limit=%s&access_token=%s\" % (num_statuses, access_token) # changed\n",
    "    url = base + node + parameters    \n",
    "    # retrieve data\n",
    "    data = json.loads(request_until_succeed(url))\n",
    "    return data\n",
    "    \n",
    "test_status = getFacebookPageFeedData(page_id, access_token, 100)[\"data\"][0]\n",
    "print(test_status)"
   ]
  },
  {
   "cell_type": "code",
   "execution_count": 6,
   "metadata": {},
   "outputs": [
    {
     "name": "stdout",
     "output_type": "stream",
     "text": [
      "200 retrieved\n"
     ]
    }
   ],
   "source": [
    "# Get a number of statuses and write then out to a file: \n",
    "data=getFacebookPageFeedData(page_id, access_token, 20)[\"data\"]\n",
    "with open('test_pc.json', 'w+') as outfile:\n",
    "    for i in data:\n",
    "        jsoned_i=json.dumps(i)\n",
    "        outfile.write(jsoned_i+'\\n')"
   ]
  },
  {
   "cell_type": "markdown",
   "metadata": {
    "collapsed": true
   },
   "source": [
    "Read more about the Facebook Graph API here:\n",
    "https://developers.facebook.com/docs/graph-api/reference/page"
   ]
  }
 ],
 "metadata": {
  "anaconda-cloud": {},
  "kernelspec": {
   "display_name": "Python 3",
   "language": "python",
   "name": "python3"
  },
  "language_info": {
   "codemirror_mode": {
    "name": "ipython",
    "version": 3
   },
   "file_extension": ".py",
   "mimetype": "text/x-python",
   "name": "python",
   "nbconvert_exporter": "python",
   "pygments_lexer": "ipython3",
   "version": "3.6.5"
  }
 },
 "nbformat": 4,
 "nbformat_minor": 2
}
